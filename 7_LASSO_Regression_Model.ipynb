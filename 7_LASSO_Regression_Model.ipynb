{
 "cells": [
  {
   "cell_type": "markdown",
   "metadata": {},
   "source": [
    "# Auto Insurance Claim Fraud Indicators and Classification"
   ]
  },
  {
   "cell_type": "markdown",
   "metadata": {},
   "source": [
    "# Mary Donovan Martello"
   ]
  },
  {
   "cell_type": "markdown",
   "metadata": {},
   "source": [
    "## The goal of this project was to identify significant features in fraudulent insurance claim transactions and to design predictive classification models to predict whether fraud was reported on the insurance claim transaction. This notebook uses a LASSO Logistic Regression model to make the fraud prediciton."
   ]
  },
  {
   "cell_type": "markdown",
   "metadata": {},
   "source": [
    "# Part 7: LASSO Logistic Regression Model"
   ]
  },
  {
   "cell_type": "markdown",
   "metadata": {},
   "source": [
    "### The dataset includes 1,000 prior claim transaction records.  Each record has a mix of 38 quantitative and categorical data features about the claim filed, including information on the policy, insured, and automobile, aspects of the damage incident, and elements of the claim filed.  The dataset also has a feature that indicates whether fraud was reported on each observation (i.e., either Y or N)."
   ]
  },
  {
   "cell_type": "code",
   "execution_count": 2,
   "metadata": {},
   "outputs": [],
   "source": [
    "dfClaims = pd.read_csv('FradulentInsuranceClaims.csv')"
   ]
  },
  {
   "cell_type": "code",
   "execution_count": 3,
   "metadata": {},
   "outputs": [
    {
     "data": {
      "text/html": [
       "<div>\n",
       "<style scoped>\n",
       "    .dataframe tbody tr th:only-of-type {\n",
       "        vertical-align: middle;\n",
       "    }\n",
       "\n",
       "    .dataframe tbody tr th {\n",
       "        vertical-align: top;\n",
       "    }\n",
       "\n",
       "    .dataframe thead th {\n",
       "        text-align: right;\n",
       "    }\n",
       "</style>\n",
       "<table border=\"1\" class=\"dataframe\">\n",
       "  <thead>\n",
       "    <tr style=\"text-align: right;\">\n",
       "      <th></th>\n",
       "      <th>months_as_customer</th>\n",
       "      <th>age</th>\n",
       "      <th>policy_number</th>\n",
       "      <th>policy_bind_date</th>\n",
       "      <th>policy_state</th>\n",
       "      <th>policy_csl</th>\n",
       "      <th>policy_deductable</th>\n",
       "      <th>policy_annual_premium</th>\n",
       "      <th>umbrella_limit</th>\n",
       "      <th>insured_zip</th>\n",
       "      <th>...</th>\n",
       "      <th>police_report_available</th>\n",
       "      <th>total_claim_amount</th>\n",
       "      <th>injury_claim</th>\n",
       "      <th>property_claim</th>\n",
       "      <th>vehicle_claim</th>\n",
       "      <th>auto_make</th>\n",
       "      <th>auto_model</th>\n",
       "      <th>auto_year</th>\n",
       "      <th>fraud_reported</th>\n",
       "      <th>_c39</th>\n",
       "    </tr>\n",
       "  </thead>\n",
       "  <tbody>\n",
       "    <tr>\n",
       "      <th>0</th>\n",
       "      <td>328</td>\n",
       "      <td>48</td>\n",
       "      <td>521585</td>\n",
       "      <td>2014-10-17</td>\n",
       "      <td>OH</td>\n",
       "      <td>250/500</td>\n",
       "      <td>1000</td>\n",
       "      <td>1406.91</td>\n",
       "      <td>0</td>\n",
       "      <td>466132</td>\n",
       "      <td>...</td>\n",
       "      <td>YES</td>\n",
       "      <td>71610</td>\n",
       "      <td>6510</td>\n",
       "      <td>13020</td>\n",
       "      <td>52080</td>\n",
       "      <td>Saab</td>\n",
       "      <td>92x</td>\n",
       "      <td>2004</td>\n",
       "      <td>Y</td>\n",
       "      <td>NaN</td>\n",
       "    </tr>\n",
       "    <tr>\n",
       "      <th>1</th>\n",
       "      <td>228</td>\n",
       "      <td>42</td>\n",
       "      <td>342868</td>\n",
       "      <td>2006-06-27</td>\n",
       "      <td>IN</td>\n",
       "      <td>250/500</td>\n",
       "      <td>2000</td>\n",
       "      <td>1197.22</td>\n",
       "      <td>5000000</td>\n",
       "      <td>468176</td>\n",
       "      <td>...</td>\n",
       "      <td>?</td>\n",
       "      <td>5070</td>\n",
       "      <td>780</td>\n",
       "      <td>780</td>\n",
       "      <td>3510</td>\n",
       "      <td>Mercedes</td>\n",
       "      <td>E400</td>\n",
       "      <td>2007</td>\n",
       "      <td>Y</td>\n",
       "      <td>NaN</td>\n",
       "    </tr>\n",
       "  </tbody>\n",
       "</table>\n",
       "<p>2 rows × 40 columns</p>\n",
       "</div>"
      ],
      "text/plain": [
       "   months_as_customer  age  policy_number policy_bind_date policy_state  \\\n",
       "0                 328   48         521585       2014-10-17           OH   \n",
       "1                 228   42         342868       2006-06-27           IN   \n",
       "\n",
       "  policy_csl  policy_deductable  policy_annual_premium  umbrella_limit  \\\n",
       "0    250/500               1000                1406.91               0   \n",
       "1    250/500               2000                1197.22         5000000   \n",
       "\n",
       "   insured_zip  ... police_report_available total_claim_amount injury_claim  \\\n",
       "0       466132  ...                     YES              71610         6510   \n",
       "1       468176  ...                       ?               5070          780   \n",
       "\n",
       "  property_claim vehicle_claim  auto_make  auto_model auto_year  \\\n",
       "0          13020         52080       Saab         92x      2004   \n",
       "1            780          3510   Mercedes        E400      2007   \n",
       "\n",
       "  fraud_reported _c39  \n",
       "0              Y  NaN  \n",
       "1              Y  NaN  \n",
       "\n",
       "[2 rows x 40 columns]"
      ]
     },
     "execution_count": 3,
     "metadata": {},
     "output_type": "execute_result"
    }
   ],
   "source": [
    "dfClaims.head(2)"
   ]
  },
  {
   "cell_type": "code",
   "execution_count": null,
   "metadata": {},
   "outputs": [],
   "source": []
  },
  {
   "cell_type": "markdown",
   "metadata": {},
   "source": [
    "### The dataset includes the original data that was cleaned, prepared, and transformed into Principal Component features in the 1_EDA_Prep notebook."
   ]
  },
  {
   "cell_type": "code",
   "execution_count": 38,
   "metadata": {},
   "outputs": [],
   "source": [
    "# import scaled, transformed and PCA df\n",
    "pcaDF = pd.read_csv('pcaClaimsLog.csv')"
   ]
  },
  {
   "cell_type": "code",
   "execution_count": null,
   "metadata": {},
   "outputs": [],
   "source": []
  },
  {
   "cell_type": "markdown",
   "metadata": {},
   "source": [
    "# Model Evaluation and Model Selection"
   ]
  },
  {
   "cell_type": "markdown",
   "metadata": {},
   "source": [
    "> ## Phase 3: Model Selection with Grid Search and K-Fold Cross Validation"
   ]
  },
  {
   "cell_type": "code",
   "execution_count": 37,
   "metadata": {},
   "outputs": [
    {
     "name": "stderr",
     "output_type": "stream",
     "text": [
      "C:\\Users\\trave\\Anaconda3\\lib\\site-packages\\sklearn\\utils\\deprecation.py:143: FutureWarning: The sklearn.metrics.classification module is  deprecated in version 0.22 and will be removed in version 0.24. The corresponding classes / functions should instead be imported from sklearn.metrics. Anything that cannot be imported from sklearn.metrics is now part of the private API.\n",
      "  warnings.warn(message, FutureWarning)\n"
     ]
    }
   ],
   "source": [
    "# import libraries for models\n",
    "\n",
    "import pandas as pd\n",
    "import numpy as np\n",
    "\n",
    "from numpy import mean\n",
    "from numpy import std\n",
    "\n",
    "import yellowbrick\n",
    "import seaborn as sns\n",
    "import matplotlib.pyplot as plt\n",
    "from IPython.display import Markdown, display\n",
    "\n",
    "from sklearn.preprocessing import LabelEncoder\n",
    "from sklearn.preprocessing import OneHotEncoder\n",
    "from sklearn.compose import ColumnTransformer\n",
    "\n",
    "\n",
    "from sklearn.preprocessing import StandardScaler\n",
    "\n",
    "from sklearn.decomposition import PCA\n",
    "from sklearn.feature_selection import RFECV\n",
    "from sklearn.linear_model import LinearRegression\n",
    "\n",
    "from sklearn.model_selection import StratifiedKFold\n",
    "from sklearn.model_selection import train_test_split\n",
    "\n",
    "from sklearn.model_selection import StratifiedKFold, KFold, cross_val_score\n",
    "from sklearn.pipeline import make_pipeline\n",
    "\n",
    "from sklearn.metrics import accuracy_score\n",
    "\n",
    "# models\n",
    "from sklearn.linear_model import LogisticRegression\n",
    "from sklearn.svm import SVC\n",
    "from sklearn.ensemble import RandomForestClassifier\n",
    "\n",
    "#stop unnecessary warnings from printing to the screen\n",
    "import warnings\n",
    "warnings.simplefilter('ignore')\n"
   ]
  },
  {
   "cell_type": "code",
   "execution_count": null,
   "metadata": {},
   "outputs": [],
   "source": []
  },
  {
   "cell_type": "markdown",
   "metadata": {},
   "source": [
    "### Prepare feature matrix and target vector for pipeline modeling."
   ]
  },
  {
   "cell_type": "code",
   "execution_count": 91,
   "metadata": {},
   "outputs": [],
   "source": [
    "# now need a different method of encoding categorical variables to make it work in the pipeline\n",
    "\n",
    "# separate into input and output columns (X variable for features and y for target variables)\n",
    "\n",
    "X2 = pcaDF.drop('fraud_reported', axis = 1) \n",
    "y2 = pcaDF['fraud_reported']\n",
    "\n",
    "# one-hot encode input variables\n",
    "# use ColumnTransformer to indicate which categorical variables to encode\n",
    "# https://machinelearningmastery.com/one-hot-encoding-for-categorical-data/\n",
    "onehot_encoder = OneHotEncoder()\n",
    "onehot_encoder.fit(X2)\n",
    "transformer = ColumnTransformer(transformers=[('cat', OneHotEncoder(), [16, 17, 18, 19, 20, 21, 22, 23, 24, 25, 26, 27, \n",
    "                                                                        28, 29, 30, 31])], remainder='passthrough')\n",
    "X2 = transformer.fit_transform(X2)\n",
    "\n",
    "# ordinal encode target variable\n",
    "label_encoder = LabelEncoder()\n",
    "label_encoder.fit(y2)\n",
    "y2 = label_encoder.transform(y2)"
   ]
  },
  {
   "cell_type": "code",
   "execution_count": null,
   "metadata": {},
   "outputs": [],
   "source": []
  },
  {
   "cell_type": "markdown",
   "metadata": {},
   "source": [
    "### GridSearch/Cross Validate model (all features): LASSO Logistic Regression"
   ]
  },
  {
   "cell_type": "code",
   "execution_count": 100,
   "metadata": {},
   "outputs": [
    {
     "name": "stdout",
     "output_type": "stream",
     "text": [
      "{'fit_time': array([47.79519391, 64.80870104, 24.12947655, 58.03979826, 41.12303567,\n",
      "       54.40501904, 23.92302942, 31.62979317, 53.0626452 , 22.40159655]), 'score_time': array([0.00299263, 0.00299191, 0.00299239, 0.00299239, 0.00299311,\n",
      "       0.0029943 , 0.00199533, 0.00299239, 0.00199461, 0.00199509]), 'test_accuracy': array([0.84      , 0.87      , 0.75      , 0.8       , 0.82      ,\n",
      "       0.86      , 0.8       , 0.88      , 0.86868687, 0.80808081]), 'test_precision_macro': array([0.77333333, 0.81283906, 0.70040589, 0.72587719, 0.76587302,\n",
      "       0.78712592, 0.66124661, 0.85780886, 0.8507891 , 0.81168831]), 'test_recall_macro': array([0.78938453, 0.80244755, 0.68809524, 0.72587719, 0.77858628,\n",
      "       0.80650995, 0.66124661, 0.81912682, 0.77166667, 0.74242424])}\n",
      "results\n"
     ]
    }
   ],
   "source": [
    "# grid search in a pipeline with lasso logistic regression - all featurs\n",
    "\n",
    "from sklearn.model_selection import GridSearchCV\n",
    "from sklearn.model_selection import cross_validate\n",
    "\n",
    "#Create lasso logistic regression pipeline and gridsearch\n",
    "logit = LogisticRegression(penalty='l1', solver='liblinear')\n",
    "\n",
    "param_logit={'C': [1.00000000e+00, 2.78255940e+00, 7.74263683e+00, 2.15443469e+01,\n",
    "       5.99484250e+01, 1.66810054e+02, 4.64158883e+02, 1.29154967e+03,\n",
    "       3.59381366e+03, 1.00000000e+04],\n",
    "            'penalty': ['l1']}\n",
    "\n",
    "grid = GridSearchCV(logit, param_logit, cv=5, verbose=0)\n",
    "scoring = ['accuracy', 'precision_macro', 'recall_macro']\n",
    "\n",
    "# create a pipeline that standardizes, then runs logistic regression\n",
    "#pipeline=make_pipeline(standardizer, grid)\n",
    "pipeline=make_pipeline(grid)\n",
    "# create k-fold cross-validation\n",
    "kf= KFold(n_splits=10, shuffle=True, random_state=1)\n",
    "# conduct a k-fold cross-validation\n",
    "cv_results=cross_validate(pipeline, # Pipeline\n",
    "                           X2, # Feature matrix\n",
    "                           y2,#target vector\n",
    "                           cv=kf, # Cross-validation technique\n",
    "                           scoring = scoring, # Loss function\n",
    "                           n_jobs = -1)\n",
    "\n",
    "print (cv_results)\n",
    "print(\"results\")"
   ]
  },
  {
   "cell_type": "code",
   "execution_count": null,
   "metadata": {},
   "outputs": [],
   "source": []
  },
  {
   "cell_type": "markdown",
   "metadata": {},
   "source": [
    "### GridSearch/Cross Validate model (best subset of features): LASSO Logistic Regression"
   ]
  },
  {
   "cell_type": "code",
   "execution_count": 101,
   "metadata": {},
   "outputs": [
    {
     "name": "stdout",
     "output_type": "stream",
     "text": [
      "{'fit_time': array([0.43882775, 0.43583655, 0.43882704, 0.43284249, 0.46076894,\n",
      "       0.48071265, 0.45179152, 0.47871947, 0.3241334 , 0.316154  ]), 'score_time': array([0.00498605, 0.0039897 , 0.01296592, 0.0039897 , 0.00498557,\n",
      "       0.00398946, 0.00498676, 0.00598359, 0.00299144, 0.00299144]), 'test_accuracy': array([0.78      , 0.84      , 0.79      , 0.85      , 0.81      ,\n",
      "       0.85      , 0.81      , 0.89      , 0.8989899 , 0.86868687]), 'test_precision_macro': array([0.70733988, 0.77142857, 0.75851198, 0.79237494, 0.77573377,\n",
      "       0.77390852, 0.7       , 0.84922861, 0.85387324, 0.85869565]), 'test_recall_macro': array([0.75042349, 0.83216783, 0.79285714, 0.83004386, 0.8466736 ,\n",
      "       0.81766124, 0.75406504, 0.88825364, 0.89083333, 0.84090909])}\n",
      "results\n"
     ]
    }
   ],
   "source": [
    "# grid search in a pipeline with lasso logistic regression - best features\n",
    "\n",
    "from sklearn.model_selection import GridSearchCV\n",
    "from sklearn.model_selection import cross_validate\n",
    "\n",
    "#Create lasso logistic regression pipeline and gridsearch\n",
    "logit = LogisticRegression(penalty='l1', solver='liblinear')\n",
    "\n",
    "param_logit={'C': [1.00000000e+00, 2.78255940e+00, 7.74263683e+00, 2.15443469e+01,\n",
    "       5.99484250e+01, 1.66810054e+02, 4.64158883e+02, 1.29154967e+03,\n",
    "       3.59381366e+03, 1.00000000e+04],\n",
    "            'penalty': ['l1']}\n",
    "\n",
    "grid = GridSearchCV(logit, param_logit, cv=5, verbose=0)\n",
    "scoring = ['accuracy', 'precision_macro', 'recall_macro']\n",
    "\n",
    "# create a pipeline that standardizes, then runs logistic regression\n",
    "#pipeline=make_pipeline(standardizer, grid)\n",
    "pipeline=make_pipeline(grid)\n",
    "# create k-fold cross-validation\n",
    "kf= KFold(n_splits=10, shuffle=True, random_state=1)\n",
    "# conduct a k-fold cross-validation\n",
    "cv_results=cross_validate(pipeline, # Pipeline\n",
    "                           subset11, # Feature matrix\n",
    "                           y2,#target vector\n",
    "                           cv=kf, # Cross-validation technique\n",
    "                           scoring = scoring, # Loss function\n",
    "                           n_jobs = -1)\n",
    "\n",
    "print (cv_results)\n",
    "print(\"results\")"
   ]
  },
  {
   "cell_type": "code",
   "execution_count": null,
   "metadata": {},
   "outputs": [],
   "source": []
  },
  {
   "cell_type": "markdown",
   "metadata": {},
   "source": [
    "### Prediction with best subset of features"
   ]
  },
  {
   "cell_type": "code",
   "execution_count": 102,
   "metadata": {},
   "outputs": [],
   "source": [
    "# now make a prediction - with best features\n",
    "# Try cross=validation predict\n",
    "from sklearn.model_selection import cross_val_predict\n",
    "import matplotlib.pyplot as plt\n",
    "\n",
    "# grid search in a pipeline with lasso logistic regression\n",
    "\n",
    "from sklearn.model_selection import GridSearchCV\n",
    "from sklearn.model_selection import cross_validate\n",
    "\n",
    "#Create lasso logistic regression pipeline and gridsearch\n",
    "logit = LogisticRegression(penalty='l1', solver='liblinear')\n",
    "\n",
    "param_logit={'C': [1.00000000e+00, 2.78255940e+00, 7.74263683e+00, 2.15443469e+01,\n",
    "       5.99484250e+01, 1.66810054e+02, 4.64158883e+02, 1.29154967e+03,\n",
    "       3.59381366e+03, 1.00000000e+04],\n",
    "            'penalty': ['l1']}\n",
    "\n",
    "grid = GridSearchCV(logit, param_logit, cv=5, verbose=0)\n",
    "\n",
    "# create a pipeline that standardizes, then runs logistic regression\n",
    "pipeline=make_pipeline(grid)\n",
    "\n",
    "# create k-fold cross-validation\n",
    "kf= KFold(n_splits=10, shuffle=True, random_state=1)\n",
    "\n",
    "# conduct a k-fold cross-validation and make prediction\n",
    "predLassS11=cross_val_predict(pipeline, # Pipeline\n",
    "                           subset11, # Feature matrix\n",
    "                           y2,#target vector\n",
    "                           cv=kf, # Cross-validation technique\n",
    "                           n_jobs = -1)"
   ]
  },
  {
   "cell_type": "code",
   "execution_count": null,
   "metadata": {},
   "outputs": [],
   "source": []
  },
  {
   "cell_type": "markdown",
   "metadata": {},
   "source": [
    "### Confusion Matrix - LASSO Logistic Regression"
   ]
  },
  {
   "cell_type": "code",
   "execution_count": 104,
   "metadata": {},
   "outputs": [
    {
     "name": "stdout",
     "output_type": "stream",
     "text": [
      "[[639 112]\n",
      " [ 49 198]]\n"
     ]
    }
   ],
   "source": [
    "from sklearn.metrics import confusion_matrix\n",
    "conf_matLasso = confusion_matrix(y2, predLassS11)\n",
    "print(conf_matLasso)"
   ]
  },
  {
   "cell_type": "code",
   "execution_count": 106,
   "metadata": {},
   "outputs": [
    {
     "data": {
      "image/png": "[encoded data removed]",
      "text/plain": [
       "<Figure size 576x396 with 2 Axes>"
      ]
     },
     "metadata": {},
     "output_type": "display_data"
    }
   ],
   "source": [
    "import matplotlib.pyplot as plt\n",
    "from sklearn.metrics import ConfusionMatrixDisplay\n",
    "display_labels = ['No Fraud Reported', 'Fraud Reported']\n",
    "dispLasso = ConfusionMatrixDisplay(confusion_matrix=conf_matLasso, display_labels=display_labels)\n",
    "# NOTE: Fill all variables here with default values of the plot_confusion_matrix\n",
    "dispLasso = dispLasso.plot(include_values=True)\n",
    "plt.show()"
   ]
  },
  {
   "cell_type": "code",
   "execution_count": null,
   "metadata": {},
   "outputs": [],
   "source": []
  },
  {
   "cell_type": "markdown",
   "metadata": {},
   "source": [
    "### Classification Report - LASSO Logistic Regression"
   ]
  },
  {
   "cell_type": "code",
   "execution_count": 109,
   "metadata": {},
   "outputs": [
    {
     "data": {
      "text/plain": [
       "<matplotlib.axes._subplots.AxesSubplot at 0x20b169c6d08>"
      ]
     },
     "execution_count": 109,
     "metadata": {},
     "output_type": "execute_result"
    },
    {
     "data": {
      "image/png": "[encoded data removed]",
      "text/plain": [
       "<Figure size 576x396 with 2 Axes>"
      ]
     },
     "metadata": {},
     "output_type": "display_data"
    }
   ],
   "source": [
    "from sklearn.metrics import classification_report\n",
    "class_repLasso = classification_report(y2, predLassS11, output_dict=True, target_names= ['No Fraud Reported', 'Fraud Reported'])\n",
    "# Create a dataframe from the dictionary and plot a heatmap of it.\n",
    "import seaborn as sns\n",
    "# .iloc[:-1, :] to exclude support\n",
    "sns.heatmap(pd.DataFrame(class_repLasso).iloc[:-1, :].T, annot=True)"
   ]
  },
  {
   "cell_type": "code",
   "execution_count": null,
   "metadata": {},
   "outputs": [],
   "source": []
  },
  {
   "cell_type": "code",
   "execution_count": null,
   "metadata": {},
   "outputs": [],
   "source": []
  },
  {
   "cell_type": "code",
   "execution_count": null,
   "metadata": {},
   "outputs": [],
   "source": []
  }
 ],
 "metadata": {
  "kernelspec": {
   "display_name": "Python 3",
   "language": "python",
   "name": "python3"
  },
  "language_info": {
   "codemirror_mode": {
    "name": "ipython",
    "version": 3
   },
   "file_extension": ".py",
   "mimetype": "text/x-python",
   "name": "python",
   "nbconvert_exporter": "python",
   "pygments_lexer": "ipython3",
   "version": "3.7.6"
  }
 },
 "nbformat": 4,
 "nbformat_minor": 4
}
