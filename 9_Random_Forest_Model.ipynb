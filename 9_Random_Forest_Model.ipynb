{
 "cells": [
  {
   "cell_type": "markdown",
   "metadata": {},
   "source": [
    "# Auto Insurance Claim Fraud Indicators and Classification"
   ]
  },
  {
   "cell_type": "markdown",
   "metadata": {},
   "source": [
    "# Mary Donovan Martello"
   ]
  },
  {
   "cell_type": "markdown",
   "metadata": {},
   "source": [
    "## The goal of this project was to identify significant features in fraudulent insurance claim transactions and to design predictive classification models to predict whether fraud was reported on the insurance claim transaction. This notebook uses a Random Forest model to make the fraud prediciton."
   ]
  },
  {
   "cell_type": "markdown",
   "metadata": {},
   "source": [
    "# Part 9:  Random Forest Model"
   ]
  },
  {
   "cell_type": "markdown",
   "metadata": {},
   "source": [
    "### The dataset includes 1,000 prior claim transaction records.  Each record has a mix of 38 quantitative and categorical data features about the claim filed, including information on the policy, insured, and automobile, aspects of the damage incident, and elements of the claim filed.  The dataset also has a feature that indicates whether fraud was reported on each observation (i.e., either Y or N)."
   ]
  },
  {
   "cell_type": "code",
   "execution_count": 2,
   "metadata": {},
   "outputs": [],
   "source": [
    "dfClaims = pd.read_csv('FradulentInsuranceClaims.csv')"
   ]
  },
  {
   "cell_type": "code",
   "execution_count": 3,
   "metadata": {},
   "outputs": [
    {
     "data": {
      "text/html": [
       "<div>\n",
       "<style scoped>\n",
       "    .dataframe tbody tr th:only-of-type {\n",
       "        vertical-align: middle;\n",
       "    }\n",
       "\n",
       "    .dataframe tbody tr th {\n",
       "        vertical-align: top;\n",
       "    }\n",
       "\n",
       "    .dataframe thead th {\n",
       "        text-align: right;\n",
       "    }\n",
       "</style>\n",
       "<table border=\"1\" class=\"dataframe\">\n",
       "  <thead>\n",
       "    <tr style=\"text-align: right;\">\n",
       "      <th></th>\n",
       "      <th>months_as_customer</th>\n",
       "      <th>age</th>\n",
       "      <th>policy_number</th>\n",
       "      <th>policy_bind_date</th>\n",
       "      <th>policy_state</th>\n",
       "      <th>policy_csl</th>\n",
       "      <th>policy_deductable</th>\n",
       "      <th>policy_annual_premium</th>\n",
       "      <th>umbrella_limit</th>\n",
       "      <th>insured_zip</th>\n",
       "      <th>...</th>\n",
       "      <th>police_report_available</th>\n",
       "      <th>total_claim_amount</th>\n",
       "      <th>injury_claim</th>\n",
       "      <th>property_claim</th>\n",
       "      <th>vehicle_claim</th>\n",
       "      <th>auto_make</th>\n",
       "      <th>auto_model</th>\n",
       "      <th>auto_year</th>\n",
       "      <th>fraud_reported</th>\n",
       "      <th>_c39</th>\n",
       "    </tr>\n",
       "  </thead>\n",
       "  <tbody>\n",
       "    <tr>\n",
       "      <th>0</th>\n",
       "      <td>328</td>\n",
       "      <td>48</td>\n",
       "      <td>521585</td>\n",
       "      <td>2014-10-17</td>\n",
       "      <td>OH</td>\n",
       "      <td>250/500</td>\n",
       "      <td>1000</td>\n",
       "      <td>1406.91</td>\n",
       "      <td>0</td>\n",
       "      <td>466132</td>\n",
       "      <td>...</td>\n",
       "      <td>YES</td>\n",
       "      <td>71610</td>\n",
       "      <td>6510</td>\n",
       "      <td>13020</td>\n",
       "      <td>52080</td>\n",
       "      <td>Saab</td>\n",
       "      <td>92x</td>\n",
       "      <td>2004</td>\n",
       "      <td>Y</td>\n",
       "      <td>NaN</td>\n",
       "    </tr>\n",
       "    <tr>\n",
       "      <th>1</th>\n",
       "      <td>228</td>\n",
       "      <td>42</td>\n",
       "      <td>342868</td>\n",
       "      <td>2006-06-27</td>\n",
       "      <td>IN</td>\n",
       "      <td>250/500</td>\n",
       "      <td>2000</td>\n",
       "      <td>1197.22</td>\n",
       "      <td>5000000</td>\n",
       "      <td>468176</td>\n",
       "      <td>...</td>\n",
       "      <td>?</td>\n",
       "      <td>5070</td>\n",
       "      <td>780</td>\n",
       "      <td>780</td>\n",
       "      <td>3510</td>\n",
       "      <td>Mercedes</td>\n",
       "      <td>E400</td>\n",
       "      <td>2007</td>\n",
       "      <td>Y</td>\n",
       "      <td>NaN</td>\n",
       "    </tr>\n",
       "  </tbody>\n",
       "</table>\n",
       "<p>2 rows × 40 columns</p>\n",
       "</div>"
      ],
      "text/plain": [
       "   months_as_customer  age  policy_number policy_bind_date policy_state  \\\n",
       "0                 328   48         521585       2014-10-17           OH   \n",
       "1                 228   42         342868       2006-06-27           IN   \n",
       "\n",
       "  policy_csl  policy_deductable  policy_annual_premium  umbrella_limit  \\\n",
       "0    250/500               1000                1406.91               0   \n",
       "1    250/500               2000                1197.22         5000000   \n",
       "\n",
       "   insured_zip  ... police_report_available total_claim_amount injury_claim  \\\n",
       "0       466132  ...                     YES              71610         6510   \n",
       "1       468176  ...                       ?               5070          780   \n",
       "\n",
       "  property_claim vehicle_claim  auto_make  auto_model auto_year  \\\n",
       "0          13020         52080       Saab         92x      2004   \n",
       "1            780          3510   Mercedes        E400      2007   \n",
       "\n",
       "  fraud_reported _c39  \n",
       "0              Y  NaN  \n",
       "1              Y  NaN  \n",
       "\n",
       "[2 rows x 40 columns]"
      ]
     },
     "execution_count": 3,
     "metadata": {},
     "output_type": "execute_result"
    }
   ],
   "source": [
    "dfClaims.head(2)"
   ]
  },
  {
   "cell_type": "code",
   "execution_count": null,
   "metadata": {},
   "outputs": [],
   "source": []
  },
  {
   "cell_type": "markdown",
   "metadata": {},
   "source": [
    "### The dataset includes the original data that was cleaned, prepared, and transformed into Principal Component features in the 1_EDA_Prep notebook."
   ]
  },
  {
   "cell_type": "code",
   "execution_count": 1,
   "metadata": {},
   "outputs": [],
   "source": [
    "# import scaled, transformed and PCA df\n",
    "import pandas as pd\n",
    "pcaDF = pd.read_csv('pcaClaimsLog.csv')"
   ]
  },
  {
   "cell_type": "code",
   "execution_count": null,
   "metadata": {},
   "outputs": [],
   "source": []
  },
  {
   "cell_type": "markdown",
   "metadata": {},
   "source": [
    "# Model Evaluation and Model Selection"
   ]
  },
  {
   "cell_type": "markdown",
   "metadata": {},
   "source": [
    "> ## Phase 3: Model Selection with Grid Search and K-Fold Cross Validation"
   ]
  },
  {
   "cell_type": "code",
   "execution_count": 3,
   "metadata": {},
   "outputs": [],
   "source": [
    "# import libraries for models\n",
    "\n",
    "import pandas as pd\n",
    "import numpy as np\n",
    "\n",
    "from numpy import mean\n",
    "from numpy import std\n",
    "\n",
    "import yellowbrick\n",
    "import seaborn as sns\n",
    "import matplotlib.pyplot as plt\n",
    "from IPython.display import Markdown, display\n",
    "\n",
    "from sklearn.preprocessing import LabelEncoder\n",
    "from sklearn.preprocessing import OneHotEncoder\n",
    "from sklearn.compose import ColumnTransformer\n",
    "\n",
    "\n",
    "from sklearn.preprocessing import StandardScaler\n",
    "\n",
    "from sklearn.decomposition import PCA\n",
    "from sklearn.feature_selection import RFECV\n",
    "from sklearn.linear_model import LinearRegression\n",
    "\n",
    "from sklearn.model_selection import StratifiedKFold\n",
    "from sklearn.model_selection import train_test_split\n",
    "\n",
    "from sklearn.model_selection import StratifiedKFold, KFold, cross_val_score\n",
    "from sklearn.pipeline import make_pipeline\n",
    "\n",
    "from sklearn.metrics import accuracy_score\n",
    "\n",
    "# models\n",
    "from sklearn.linear_model import LogisticRegression\n",
    "from sklearn.svm import SVC\n",
    "from sklearn.ensemble import RandomForestClassifier\n",
    "\n",
    "#stop unnecessary warnings from printing to the screen\n",
    "import warnings\n",
    "warnings.simplefilter('ignore')\n"
   ]
  },
  {
   "cell_type": "code",
   "execution_count": null,
   "metadata": {},
   "outputs": [],
   "source": []
  },
  {
   "cell_type": "markdown",
   "metadata": {},
   "source": [
    "### Prepare feature matrix and target vector for pipeline modeling."
   ]
  },
  {
   "cell_type": "code",
   "execution_count": 4,
   "metadata": {},
   "outputs": [],
   "source": [
    "# now need a different method of encoding categorical variables to make it work in the pipeline\n",
    "\n",
    "# separate into input and output columns (X variable for features and y for target variables)\n",
    "\n",
    "X2 = pcaDF.drop('fraud_reported', axis = 1) \n",
    "y2 = pcaDF['fraud_reported']\n",
    "\n",
    "# one-hot encode input variables\n",
    "# use ColumnTransformer to indicate which categorical variables to encode\n",
    "# https://machinelearningmastery.com/one-hot-encoding-for-categorical-data/\n",
    "onehot_encoder = OneHotEncoder()\n",
    "onehot_encoder.fit(X2)\n",
    "transformer = ColumnTransformer(transformers=[('cat', OneHotEncoder(), [16, 17, 18, 19, 20, 21, 22, 23, 24, 25, 26, 27, \n",
    "                                                                        28, 29, 30, 31])], remainder='passthrough')\n",
    "X2 = transformer.fit_transform(X2)\n",
    "\n",
    "# ordinal encode target variable\n",
    "label_encoder = LabelEncoder()\n",
    "label_encoder.fit(y2)\n",
    "y2 = label_encoder.transform(y2)"
   ]
  },
  {
   "cell_type": "code",
   "execution_count": null,
   "metadata": {},
   "outputs": [],
   "source": []
  },
  {
   "cell_type": "markdown",
   "metadata": {},
   "source": [
    "### Set target class weights to address imbalance in the target"
   ]
  },
  {
   "cell_type": "markdown",
   "metadata": {},
   "source": [
    "### In this project, I addressed imbalance in the target by weighting the class.  See this project for a comparison of various methods to addressed imbalanced datasets:  [Imbalance Project](https://github.com/MaryDonovanMartello/Credit-Card-Default-Imbalance-and-Deployment)"
   ]
  },
  {
   "cell_type": "markdown",
   "metadata": {},
   "source": [
    "**Get the class distribution.**"
   ]
  },
  {
   "cell_type": "code",
   "execution_count": 6,
   "metadata": {},
   "outputs": [
    {
     "name": "stdout",
     "output_type": "stream",
     "text": [
      "Total occurences of \"1\" in target:  247\n",
      "Total occurences of \"0\" in target:  751\n"
     ]
    }
   ],
   "source": [
    "countFraud = np.bincount(y2)\n",
    "# Count occurrence of element '1' in numpy array\n",
    "print('Total occurences of \"1\" in target: ', countFraud[1])\n",
    "# Count occurrence of element '' in numpy array\n",
    "print('Total occurences of \"0\" in target: ', countFraud[0])\n"
   ]
  },
  {
   "cell_type": "markdown",
   "metadata": {},
   "source": [
    "**Use the inverse of the class distribution present for the class weighting.**"
   ]
  },
  {
   "cell_type": "code",
   "execution_count": 5,
   "metadata": {},
   "outputs": [],
   "source": [
    "weights = {0:247.0, 1:751.0}"
   ]
  },
  {
   "cell_type": "code",
   "execution_count": null,
   "metadata": {},
   "outputs": [],
   "source": []
  },
  {
   "cell_type": "markdown",
   "metadata": {},
   "source": [
    "### GridSearch/Cross Validate model (all features): Random Forest"
   ]
  },
  {
   "cell_type": "code",
   "execution_count": 9,
   "metadata": {},
   "outputs": [
    {
     "name": "stdout",
     "output_type": "stream",
     "text": [
      "{'fit_time': array([40.28315401, 40.36892676, 40.64718342, 40.70103836, 43.30666447,\n",
      "       42.59257483, 43.16304803, 42.07595587, 36.19769621, 35.78545141]), 'score_time': array([0.02194285, 0.0219419 , 0.05984068, 0.02194214, 0.13763285,\n",
      "       0.08477354, 0.1087079 , 0.02493286, 0.01562762, 0.01562166]), 'test_accuracy': array([0.75      , 0.81      , 0.72      , 0.82      , 0.73      ,\n",
      "       0.81      , 0.78      , 0.82      , 0.83838384, 0.75757576]), 'train_accuracy': array([0.99665924, 0.99888641, 0.99888641, 0.99888641, 1.        ,\n",
      "       0.99888641, 1.        , 0.99888641, 0.99888765, 0.99888765]), 'test_precision_macro': array([0.6235119 , 0.72416714, 0.66112266, 0.75407925, 0.64666667,\n",
      "       0.70982143, 0.61607143, 0.80564784, 0.8362069 , 0.79516995]), 'train_precision_macro': array([0.99778434, 0.99925816, 0.99926686, 0.99926036, 1.        ,\n",
      "       0.99925706, 1.        , 0.99926254, 0.99926145, 0.99927114]), 'test_recall_macro': array([0.59373235, 0.73135198, 0.64761905, 0.73903509, 0.64293139,\n",
      "       0.66998192, 0.60569106, 0.69126819, 0.695     , 0.65151515]), 'train_recall_macro': array([0.99330357, 0.99777778, 0.99769585, 0.99775785, 1.        ,\n",
      "       0.99778761, 1.        , 0.99773756, 0.99775785, 0.99766355])}\n",
      "results\n"
     ]
    }
   ],
   "source": [
    "# RF target not encoded - all features\n",
    "from sklearn.ensemble import RandomForestClassifier\n",
    "from sklearn.metrics import recall_score\n",
    "from sklearn.model_selection import cross_validate\n",
    "\n",
    "# grid search in a pipeline RF\n",
    "\n",
    "from sklearn.model_selection import GridSearchCV\n",
    "    \n",
    "# create random forest classifier model\n",
    "modelRF = RandomForestClassifier(random_state=1, class_weight = weights)\n",
    "\n",
    "paramsRF = {\n",
    "    'n_estimators': [50, 150, 250],\n",
    "    'max_features': ['sqrt'],\n",
    "    'min_samples_split': [2, 4, 6]\n",
    "}\n",
    "\n",
    "grid = GridSearchCV(modelRF, paramsRF, cv=5, verbose=0)\n",
    "scoring = ['accuracy', 'precision_macro', 'recall_macro']\n",
    "\n",
    "pipeline=make_pipeline(grid)\n",
    "# create k-fold cross-validation\n",
    "kf= KFold(n_splits=10, shuffle=True, random_state=1)\n",
    "# conduct a k-fold cross-validation\n",
    "cv_results=cross_validate(pipeline, # Pipeline\n",
    "                           X2, # Feature matrix\n",
    "                           y2,#target vector\n",
    "                           cv=kf, # Cross-validation technique\n",
    "                           scoring = scoring, # Loss function\n",
    "                           n_jobs = -1)\n",
    "\n",
    "print (cv_results)\n",
    "print(\"results\")"
   ]
  },
  {
   "cell_type": "code",
   "execution_count": null,
   "metadata": {},
   "outputs": [],
   "source": []
  },
  {
   "cell_type": "markdown",
   "metadata": {},
   "source": [
    "### GridSearch/Cross Validate model (best subset of features): Random Forest"
   ]
  },
  {
   "cell_type": "markdown",
   "metadata": {},
   "source": [
    "**Import best subset determined in 5_Test_Subsets_of_Features**"
   ]
  },
  {
   "cell_type": "code",
   "execution_count": 6,
   "metadata": {},
   "outputs": [],
   "source": [
    "# import best subset determined in 5_Test_Subsets_of_Features\n",
    "subset11 = pd.read_csv('subset11.csv')"
   ]
  },
  {
   "cell_type": "code",
   "execution_count": 7,
   "metadata": {},
   "outputs": [
    {
     "name": "stdout",
     "output_type": "stream",
     "text": [
      "{'fit_time': array([650.39485312, 682.66860342, 770.23259258, 697.17483735,\n",
      "       681.76619458, 644.85184622, 614.81212711, 669.58275652,\n",
      "       271.6101346 , 260.68533158]), 'score_time': array([2.06448364, 0.11170149, 1.42419577, 1.39427376, 1.15990019,\n",
      "       1.28755975, 0.54354668, 0.10571671, 0.0259316 , 0.14461422]), 'test_accuracy': array([0.76      , 0.77      , 0.76      , 0.82      , 0.75      ,\n",
      "       0.78      , 0.81      , 0.85      , 0.84848485, 0.74747475]), 'train_accuracy': array([0.97216036, 0.93652561, 0.94654788, 0.94877506, 0.9376392 ,\n",
      "       0.93652561, 0.93652561, 0.96659243, 0.9432703 , 0.94215795]), 'test_precision_macro': array([0.67224759, 0.69121085, 0.72495756, 0.75363825, 0.68560075,\n",
      "       0.68      , 0.69367589, 0.81112366, 0.79519451, 0.71521739]), 'train_precision_macro': array([0.9533874 , 0.90156562, 0.91127676, 0.91588875, 0.90270552,\n",
      "       0.90232496, 0.9033049 , 0.94523844, 0.91097031, 0.90583667]), 'test_recall_macro': array([0.6916996 , 0.73834499, 0.75238095, 0.76754386, 0.70634096,\n",
      "       0.7034358 , 0.73238482, 0.78638254, 0.78666667, 0.70454545]), 'train_recall_macro': array([0.97549279, 0.94581806, 0.95847798, 0.96142169, 0.94340215,\n",
      "       0.94437421, 0.94447491, 0.96870008, 0.94875554, 0.94919162])}\n",
      "results\n"
     ]
    }
   ],
   "source": [
    "# RF target not encoded - best subset of features\n",
    "from sklearn.ensemble import RandomForestClassifier\n",
    "from sklearn.metrics import recall_score\n",
    "from sklearn.model_selection import cross_validate\n",
    "\n",
    "# grid search in a pipeline RF\n",
    "\n",
    "from sklearn.model_selection import GridSearchCV\n",
    "    \n",
    "# create random forest classifier model\n",
    "modelRF = RandomForestClassifier(random_state=1, class_weight = weights)\n",
    "\n",
    "paramsRF = {\n",
    "    'n_estimators': [50, 150, 250],\n",
    "    'max_features': ['sqrt'],\n",
    "    'min_samples_split': [2, 4, 6]\n",
    "}\n",
    "\n",
    "grid = GridSearchCV(modelRF, paramsRF, cv=5, verbose=0)\n",
    "scoring = ['accuracy', 'precision_macro', 'recall_macro']\n",
    "\n",
    "# create a pipeline that standardizes, then runs logistic regression\n",
    "#pipeline=make_pipeline(standardizer, grid)\n",
    "pipeline=make_pipeline(grid)\n",
    "# create k-fold cross-validation\n",
    "kf= KFold(n_splits=10, shuffle=True, random_state=1)\n",
    "# conduct a k-fold cross-validation\n",
    "cv_results=cross_validate(pipeline, # Pipeline\n",
    "                           subset11, # Feature matrix\n",
    "                           y2,#target vector\n",
    "                           cv=kf, # Cross-validation technique\n",
    "                           scoring = scoring, # Loss function\n",
    "                           n_jobs = -1)\n",
    "\n",
    "print (cv_results)\n",
    "print(\"results\")"
   ]
  },
  {
   "cell_type": "code",
   "execution_count": null,
   "metadata": {},
   "outputs": [],
   "source": []
  },
  {
   "cell_type": "markdown",
   "metadata": {},
   "source": [
    "### Prediction with best subset of features"
   ]
  },
  {
   "cell_type": "code",
   "execution_count": 9,
   "metadata": {},
   "outputs": [],
   "source": [
    "# now make a prediction from subset of features\n",
    "# Try cross=validation predict\n",
    "from sklearn.model_selection import cross_val_predict\n",
    "import matplotlib.pyplot as plt\n",
    "\n",
    "# target not encoded\n",
    "from sklearn.ensemble import RandomForestClassifier\n",
    "from sklearn.metrics import recall_score\n",
    "from sklearn.model_selection import cross_validate\n",
    "\n",
    "# grid search in a pipeline RF\n",
    "\n",
    "from sklearn.model_selection import GridSearchCV\n",
    "    \n",
    "# create random forest classifier model\n",
    "modelRF = RandomForestClassifier(random_state=1, class_weight = weights)\n",
    "\n",
    "paramsRF = {\n",
    "    'n_estimators': [50, 150, 250],\n",
    "    'max_features': ['sqrt'],\n",
    "    'min_samples_split': [2, 4, 6]\n",
    "}\n",
    "\n",
    "grid = GridSearchCV(modelRF, paramsRF, cv=5, verbose=0)\n",
    "\n",
    "# create a pipeline that standardizes, then runs logistic regression\n",
    "pipeline=make_pipeline(grid)\n",
    "\n",
    "# create k-fold cross-validation\n",
    "kf= KFold(n_splits=10, shuffle=True, random_state=1)\n",
    "\n",
    "# conduct a k-fold cross-validation\n",
    "predRFS11=cross_val_predict(pipeline, # Pipeline\n",
    "                           subset11, # Feature matrix\n",
    "                           y2,#target vector\n",
    "                           cv=kf, # Cross-validation technique\n",
    "                           n_jobs = -1)"
   ]
  },
  {
   "cell_type": "code",
   "execution_count": null,
   "metadata": {},
   "outputs": [],
   "source": []
  },
  {
   "cell_type": "markdown",
   "metadata": {},
   "source": [
    "### Confusion Matrix - Random Forest"
   ]
  },
  {
   "cell_type": "code",
   "execution_count": 10,
   "metadata": {},
   "outputs": [
    {
     "name": "stdout",
     "output_type": "stream",
     "text": [
      "[[631 120]\n",
      " [ 90 157]]\n"
     ]
    }
   ],
   "source": [
    "from sklearn.metrics import confusion_matrix\n",
    "conf_matRF = confusion_matrix(y2, predRFS11)\n",
    "print(conf_matRF)"
   ]
  },
  {
   "cell_type": "code",
   "execution_count": null,
   "metadata": {},
   "outputs": [],
   "source": []
  },
  {
   "cell_type": "markdown",
   "metadata": {},
   "source": [
    "### Classification Report - Random Forest"
   ]
  },
  {
   "cell_type": "code",
   "execution_count": 11,
   "metadata": {},
   "outputs": [
    {
     "data": {
      "text/plain": [
       "<AxesSubplot:>"
      ]
     },
     "execution_count": 11,
     "metadata": {},
     "output_type": "execute_result"
    },
    {
     "data": {
      "image/png": "[encoded data removed]",
      "text/plain": [
       "<Figure size 576x396 with 2 Axes>"
      ]
     },
     "metadata": {},
     "output_type": "display_data"
    }
   ],
   "source": [
    "from sklearn.metrics import classification_report\n",
    "class_repRF = classification_report(y2, predRFS11, output_dict=True, target_names= ['No Fraud Reported', 'Fraud Reported'])\n",
    "# Create a dataframe from the dictionary and plot a heatmap of it.\n",
    "import seaborn as sns\n",
    "# .iloc[:-1, :] to exclude support\n",
    "sns.heatmap(pd.DataFrame(class_repRF).iloc[:-1, :].T, annot=True)"
   ]
  },
  {
   "cell_type": "code",
   "execution_count": null,
   "metadata": {},
   "outputs": [],
   "source": []
  },
  {
   "cell_type": "code",
   "execution_count": null,
   "metadata": {},
   "outputs": [],
   "source": []
  }
 ],
 "metadata": {
  "kernelspec": {
   "display_name": "Python 3",
   "language": "python",
   "name": "python3"
  },
  "language_info": {
   "codemirror_mode": {
    "name": "ipython",
    "version": 3
   },
   "file_extension": ".py",
   "mimetype": "text/x-python",
   "name": "python",
   "nbconvert_exporter": "python",
   "pygments_lexer": "ipython3",
   "version": "3.7.6"
  }
 },
 "nbformat": 4,
 "nbformat_minor": 4
}
